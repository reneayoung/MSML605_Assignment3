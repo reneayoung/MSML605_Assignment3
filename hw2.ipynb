{
 "cells": [
  {
   "cell_type": "code",
   "execution_count": 69,
   "metadata": {},
   "outputs": [],
   "source": [
    "from math import sqrt"
   ]
  },
  {
   "cell_type": "code",
   "execution_count": 170,
   "metadata": {},
   "outputs": [],
   "source": [
    "## Create a dictionary called critics from critics.csv file.\n",
    "## The keys are the names of the critics, and the values are dictionaries containing\n",
    "## containing the movie names as the keys and the ratings as the values\n",
    "critics = {"'Gene Seymour': {'Lady in the Water': 3.0, 'Snakes on a Plane': 3.5, 'Just My Luck': 1.5, 'Superman Returns': 5.0, 'The Night Listener': 3.0,'You, Me and Dupree': 3.5},\n",
    "'Michael Phillips': {'Lady in the Water': 2.5, 'Snakes on a Plane': 3.0, 'Superman Returns': 4.0, 'The Night Listener': 4.0},\n",
    "'Claudia Puig': {'Snakes on a Plane': 3.5, 'Just My Luck': 3.0, 'The Night Listener': 4.5, 'Superman Returns': 4.0, 'The Night Listener': 3.0,'You, Me and Dupree': 2.5},\n",
    "'Mick LaSalle': {'Lady in the Water': 3.0, 'Snakes on a Plane': 4.0, 'Just My Luck': 2.0, 'Superman Returns': 3.0, 'The Night Listener': 3.0,'You, Me and Dupree': 2.0},\n",
    "'Jack Matthews': {'Lady in the Water': 3.0, 'Snakes on a Plane': 4.0, 'Superman Returns': 5.0, 'The Night Listener': 3.0,'You, Me and Dupree': 3.5},\n",
    "'Toby': {'Snakes on a Plane': 4.5,'Superman Returns': 4.0,'You, Me and Dupree': 4.0}}       "
   ]
  },
  {
   "cell_type": "code",
   "execution_count": 171,
   "metadata": {},
   "outputs": [],
   "source": [
    "# Return a distance-based similarity score for two individuals\n",
    "# params: critics dictionary, person 1's name, person 2's name \n",
    "def sim_distance(prefs,person1,person2):\n",
    "    # Get the list of shared items (mutually rated)\n",
    "    si={}\n",
    "    # start code\n",
    "    for item in prefs[person1]:\n",
    "        if item in prefs[person2]:\n",
    "            si[item] = 1\n",
    "    # end code\n",
    "    # if they have no ratings in common, return 0\n",
    "    if len(si) == 0:\n",
    "        return(0)\n",
    "    # Add up the squares of all the differences of the ratings for the shared items\n",
    "    sum_of_squared_difference = sum([(prefs[person1][item] - prefs[person2][item])**2 for item in prefs[person1] if item in prefs[person2]]) ### write code here (use list comprehension)\n",
    "    return(1/(1 + sum_of_squared_difference))"
   ]
  },
  {
   "cell_type": "code",
   "execution_count": 172,
   "metadata": {},
   "outputs": [
    {
     "name": "stdout",
     "output_type": "stream",
     "text": [
      "0.4\n"
     ]
    }
   ],
   "source": [
    "print(sim_distance(critics,'Toby','Jack Matthews'))"
   ]
  },
  {
   "cell_type": "code",
   "execution_count": 175,
   "metadata": {},
   "outputs": [],
   "source": [
    "# Returns the Pearson correlation coefficient for two individuals\n",
    "# first parameter is the critics dictionary\n",
    "\n",
    "def sim_pearson(prefs,person1,person2):\n",
    "    # Get the list of mutually rated items\n",
    "    si={}\n",
    "    # start code \n",
    "    for item in prefs[person1]:\n",
    "        if item in prefs[person2]:\n",
    "            si[item] = 1\n",
    "    # end code\n",
    "    # if they have no ratings in common, return 0\n",
    "    if len(si) == 0:\n",
    "        return(0)\n",
    "    \n",
    "    #find the number of common elements\n",
    "    n = len(si)\n",
    "    \n",
    "    #Add up all the ratings for each individual\n",
    "    sum1 = sum([prefs[person1][item] for item in si])   # write code for person1\n",
    "    sum2 = sum([prefs[person2][item] for item in si])   # write code for person2\n",
    "    \n",
    "    # Sum up the squares of the ratings for each person\n",
    "    sum1Sq = sum([(prefs[person1][item])**2 for item in si])  # write code for person1\n",
    "    sum2Sq = sum([(prefs[person2][item])**2 for item in si])  # write code for person2\n",
    "    \n",
    "    # Sum up the products of the ratings for the two individuals \n",
    "    # rating person 1 x rating person 2 for all the common ratings and add it up\n",
    "    pSum = sum([prefs[person1][item]*prefs[person2][item] for item in si])      # write code here \n",
    "    \n",
    "    #Calculate Pearson score\n",
    "    numerator = pSum - (sum1*sum2/n)\n",
    "    denominator = sqrt((sum1Sq-pow(sum1,2)/n)*(sum2Sq-pow(sum2,2)/n))\n",
    "    \n",
    "    if denominator == 0:\n",
    "        return(0)\n",
    "    \n",
    "    r = numerator/denominator\n",
    "    return(r)\n",
    "    "
   ]
  },
  {
   "cell_type": "code",
   "execution_count": 176,
   "metadata": {},
   "outputs": [
    {
     "name": "stdout",
     "output_type": "stream",
     "text": [
      "-0.18898223650462054\n"
     ]
    }
   ],
   "source": [
    "print(sim_pearson(critics,'Toby','Jack Matthews'))"
   ]
  },
  {
   "cell_type": "code",
   "execution_count": 177,
   "metadata": {},
   "outputs": [],
   "source": [
    "# Return the best matches for person from the critics dictionary\n",
    "# Number of results and similarity function are optional parameters\n",
    "def topMatches(prefs,person,n=5,similarity=sim_pearson):\n",
    "    ## find the similarity scores for the person and every other individual\n",
    "    ## store values in a tuple for the person and other individual\n",
    "    scores = [similarity(prefs, person, other) for other in prefs if other == person]\n",
    "    # sort the list so that the highest scores appear at the top\n",
    "    scores.sort()\n",
    "    scores.reverse()\n",
    "    return(scores[0:n])"
   ]
  },
  {
   "cell_type": "code",
   "execution_count": 178,
   "metadata": {},
   "outputs": [
    {
     "name": "stdout",
     "output_type": "stream",
     "text": [
      "[1.0]\n"
     ]
    }
   ],
   "source": [
    "print(topMatches(critics,'Toby'))"
   ]
  },
  {
   "cell_type": "code",
   "execution_count": null,
   "metadata": {},
   "outputs": [],
   "source": [
    "## Get recommendations for a person by using a weighted average\n",
    "## of every other user's rankings\n",
    "def getRecommendations(prefs,person,similarity=sim_pearson):\n",
    "    totals = {}\n",
    "    simSums = {}\n",
    "    for other in prefs:\n",
    "        #don't compare me to myself\n",
    "        if other == person:\n",
    "            continue\n",
    "        sim = similarity(prefs, person, other)  # write code for similarity here\n",
    "        \n",
    "        #ignore scores of zero or lower\n",
    "        if sim <= 0:\n",
    "            continue\n",
    "        for item in prefs[other]:\n",
    "            #only score movies I haven't seen yet\n",
    "            if item not in prefs[person] or prefs[person][item]==0:\n",
    "                #Similariy * Score\n",
    "                totals.setdefault(item,0)\n",
    "                total = sim * #  Write code for totals here (1 line)\n",
    "                #Sum of similarities\n",
    "                simSums.setdefault(item,0)\n",
    "                simSums = sim + # Write code here to add similarity (1 line)\n",
    "            #create a normalized list\n",
    "        rankings = [(total/simSums[item],item) for item,total in totals.items()]\n",
    "        # return the sorted list\n",
    "        rankings.sort()\n",
    "        rankings.reverse()\n",
    "        return(rankings)"
   ]
  },
  {
   "cell_type": "code",
   "execution_count": null,
   "metadata": {},
   "outputs": [],
   "source": [
    "print(getRecommendations(critics,'Toby'))"
   ]
  },
  {
   "cell_type": "code",
   "execution_count": null,
   "metadata": {},
   "outputs": [],
   "source": [
    "print(getRecommendations(critics,'Jack Matthews'))"
   ]
  },
  {
   "cell_type": "code",
   "execution_count": null,
   "metadata": {},
   "outputs": [],
   "source": []
  }
 ],
 "metadata": {
  "kernelspec": {
   "display_name": "Python 3",
   "language": "python",
   "name": "python3"
  },
  "language_info": {
   "codemirror_mode": {
    "name": "ipython",
    "version": 3
   },
   "file_extension": ".py",
   "mimetype": "text/x-python",
   "name": "python",
   "nbconvert_exporter": "python",
   "pygments_lexer": "ipython3",
   "version": "3.8.3"
  }
 },
 "nbformat": 4,
 "nbformat_minor": 2
}
